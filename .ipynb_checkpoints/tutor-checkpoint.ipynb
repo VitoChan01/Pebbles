{
 "cells": [
  {
   "cell_type": "code",
   "execution_count": 1,
   "id": "250180b4-1329-4f29-b28f-b2e4806e46b9",
   "metadata": {},
   "outputs": [],
   "source": [
    "import pyzed.sl as sl"
   ]
  },
  {
   "cell_type": "code",
   "execution_count": 2,
   "id": "cc855bd6-5512-49f7-9751-0b8abd40b131",
   "metadata": {},
   "outputs": [],
   "source": [
    "# Create a ZED camera object\n",
    "zed = sl.Camera()\n",
    "\n",
    "# Set configuration parameters\n",
    "init_params = sl.InitParameters()\n",
    "init_params.camera_resolution = sl.RESOLUTION.HD1080 \n",
    "init_params.camera_fps = 30 "
   ]
  },
  {
   "cell_type": "code",
   "execution_count": 3,
   "id": "bd77e714-2e56-4f24-9778-353f8ed483a2",
   "metadata": {},
   "outputs": [],
   "source": [
    "err = zed.open(init_params)\n",
    "if (err != sl.ERROR_CODE.SUCCESS) :\n",
    "    exit(-1)"
   ]
  },
  {
   "cell_type": "code",
   "execution_count": 4,
   "id": "f0ae0dc0-314a-4000-81b8-4b8ee911a3b1",
   "metadata": {},
   "outputs": [
    {
     "name": "stdout",
     "output_type": "stream",
     "text": [
      "Hello! This is my serial number:  0\n"
     ]
    }
   ],
   "source": [
    "# Get camera information (serial number)\n",
    "zed_serial = zed.get_camera_information().serial_number\n",
    "print(\"Hello! This is my serial number: \", zed_serial)"
   ]
  },
  {
   "cell_type": "code",
   "execution_count": 5,
   "id": "1b417934-f3d4-460b-b2d4-bf4f81824f35",
   "metadata": {},
   "outputs": [
    {
     "ename": "SyntaxError",
     "evalue": "'return' outside function (2857660064.py, line 3)",
     "output_type": "error",
     "traceback": [
      "\u001b[1;36m  Cell \u001b[1;32mIn[5], line 3\u001b[1;36m\u001b[0m\n\u001b[1;33m    return 0\u001b[0m\n\u001b[1;37m    ^\u001b[0m\n\u001b[1;31mSyntaxError\u001b[0m\u001b[1;31m:\u001b[0m 'return' outside function\n"
     ]
    }
   ],
   "source": [
    "# Close the camera\n",
    "zed.close()\n",
    "return 0"
   ]
  },
  {
   "cell_type": "code",
   "execution_count": null,
   "id": "7ddc1bbe-eb03-4fd8-8360-2df9f2a86449",
   "metadata": {},
   "outputs": [],
   "source": []
  }
 ],
 "metadata": {
  "kernelspec": {
   "display_name": "Python 3 (ipykernel)",
   "language": "python",
   "name": "python3"
  },
  "language_info": {
   "codemirror_mode": {
    "name": "ipython",
    "version": 3
   },
   "file_extension": ".py",
   "mimetype": "text/x-python",
   "name": "python",
   "nbconvert_exporter": "python",
   "pygments_lexer": "ipython3",
   "version": "3.11.4"
  }
 },
 "nbformat": 4,
 "nbformat_minor": 5
}
